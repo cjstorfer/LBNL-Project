{
 "cells": [
  {
   "cell_type": "code",
   "execution_count": 6,
   "metadata": {
    "collapsed": true
   },
   "outputs": [],
   "source": [
    "import tensorflow as tf\n",
    "import numpy as np\n",
    "import importlib.util"
   ]
  },
  {
   "cell_type": "code",
   "execution_count": 7,
   "metadata": {
    "collapsed": true
   },
   "outputs": [],
   "source": [
    "def load_module(path):\n",
    "    spec = importlib.util.spec_from_file_location(\"module.name\", path)\n",
    "    module = importlib.util.module_from_spec(spec)\n",
    "    spec.loader.exec_module(module)\n",
    "    return module\n",
    "\n",
    "def load_arch(arch_path, bands):\n",
    "    arch = load_module(arch_path)\n",
    "    nn = arch.CNN()\n",
    "\n",
    "    g = tf.Graph()\n",
    "    with g.as_default():\n",
    "        nn.create_architecture(bands=bands)\n",
    "    return g, nn"
   ]
  },
  {
   "cell_type": "code",
   "execution_count": 8,
   "metadata": {
    "collapsed": true
   },
   "outputs": [],
   "source": [
    "baseline, _ = load_arch(\"arch_baseline.py\", 1)\n",
    "views, _ = load_arch(\"arch_views.py\", 1)\n",
    "invariant, _ = load_arch(\"arch_invariant.py\", 1)\n",
    "residual, _ = load_arch(\"arch_residual.py\", 1)"
   ]
  },
  {
   "cell_type": "code",
   "execution_count": 9,
   "metadata": {
    "collapsed": true
   },
   "outputs": [],
   "source": [
    "def count(graph):\n",
    "    variables = graph.get_collection(tf.GraphKeys.TRAINABLE_VARIABLES)\n",
    "    shapes = [x.get_shape().as_list() for x in variables]\n",
    "    return sum([np.prod(x) for x in shapes])"
   ]
  },
  {
   "cell_type": "code",
   "execution_count": 10,
   "metadata": {
    "collapsed": false
   },
   "outputs": [
    {
     "data": {
      "text/plain": [
       "(5674145, 7035308, 1753705, 4863021)"
      ]
     },
     "execution_count": 10,
     "metadata": {},
     "output_type": "execute_result"
    }
   ],
   "source": [
    "count(baseline), count(views), count(invariant), count(residual)"
   ]
  },
  {
   "cell_type": "code",
   "execution_count": null,
   "metadata": {
    "collapsed": true
   },
   "outputs": [],
   "source": []
  }
 ],
 "metadata": {
  "kernelspec": {
   "display_name": "Python 3",
   "language": "python",
   "name": "python3"
  },
  "language_info": {
   "codemirror_mode": {
    "name": "ipython",
    "version": 3
   },
   "file_extension": ".py",
   "mimetype": "text/x-python",
   "name": "python",
   "nbconvert_exporter": "python",
   "pygments_lexer": "ipython3",
   "version": "3.5.3"
  }
 },
 "nbformat": 4,
 "nbformat_minor": 2
}
