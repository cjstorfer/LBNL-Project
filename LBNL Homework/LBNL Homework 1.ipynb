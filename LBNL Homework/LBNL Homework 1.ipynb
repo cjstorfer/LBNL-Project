{
 "cells": [
  {
   "cell_type": "code",
   "execution_count": 1,
   "metadata": {},
   "outputs": [
    {
     "name": "stdout",
     "output_type": "stream",
     "text": [
      "0.19.1\n"
     ]
    },
    {
     "name": "stderr",
     "output_type": "stream",
     "text": [
      "/anaconda3/lib/python3.6/site-packages/sklearn/cross_validation.py:41: DeprecationWarning: This module was deprecated in version 0.18 in favor of the model_selection module into which all the refactored classes and functions are moved. Also note that the interface of the new CV iterators are different from that of this module. This module will be removed in 0.20.\n",
      "  \"This module will be removed in 0.20.\", DeprecationWarning)\n"
     ]
    }
   ],
   "source": [
    "%matplotlib inline\n",
    "# All imports\n",
    "\n",
    "from random import choice\n",
    "import numpy as np\n",
    "import matplotlib.pyplot as plt\n",
    "from copy import copy\n",
    "import time\n",
    "from IPython import display\n",
    "\n",
    "import sklearn\n",
    "from sklearn.neural_network import MLPRegressor, MLPClassifier\n",
    "from sklearn.cross_validation import train_test_split\n",
    "\n",
    "np.set_printoptions(formatter={'float': '{:.5f}'.format})\n",
    "print(sklearn.__version__)\n"
   ]
  },
  {
   "cell_type": "markdown",
   "metadata": {},
   "source": [
    "# NOR GATE :"
   ]
  },
  {
   "cell_type": "code",
   "execution_count": 2,
   "metadata": {},
   "outputs": [],
   "source": [
    "X = np.asarray([[0,0],[0,1],[1,0],[1,1]])\n",
    "y = np.asarray([1,0,0,0])"
   ]
  },
  {
   "cell_type": "code",
   "execution_count": 3,
   "metadata": {
    "collapsed": true
   },
   "outputs": [],
   "source": [
    "clf = MLPClassifier(solver=\"lbfgs\", alpha=1e-10, hidden_layer_sizes=(1,), activation = 'tanh', \\\n",
    "                    random_state=5, max_iter=1000000, learning_rate_init = 0.1)"
   ]
  },
  {
   "cell_type": "code",
   "execution_count": 4,
   "metadata": {},
   "outputs": [
    {
     "data": {
      "text/plain": [
       "MLPClassifier(activation='tanh', alpha=1e-10, batch_size='auto', beta_1=0.9,\n",
       "       beta_2=0.999, early_stopping=False, epsilon=1e-08,\n",
       "       hidden_layer_sizes=(1,), learning_rate='constant',\n",
       "       learning_rate_init=0.1, max_iter=1000000, momentum=0.9,\n",
       "       nesterovs_momentum=True, power_t=0.5, random_state=5, shuffle=True,\n",
       "       solver='lbfgs', tol=0.0001, validation_fraction=0.1, verbose=False,\n",
       "       warm_start=False)"
      ]
     },
     "execution_count": 4,
     "metadata": {},
     "output_type": "execute_result"
    }
   ],
   "source": [
    "clf.fit(X,y)"
   ]
  },
  {
   "cell_type": "code",
   "execution_count": 5,
   "metadata": {},
   "outputs": [],
   "source": [
    "guess = np.asarray([[0,0]])\n",
    "predict = clf.predict(guess)"
   ]
  },
  {
   "cell_type": "code",
   "execution_count": 6,
   "metadata": {},
   "outputs": [
    {
     "name": "stdout",
     "output_type": "stream",
     "text": [
      "[1]\n"
     ]
    }
   ],
   "source": [
    "print(predict)"
   ]
  },
  {
   "cell_type": "code",
   "execution_count": 7,
   "metadata": {},
   "outputs": [
    {
     "name": "stdout",
     "output_type": "stream",
     "text": [
      "[[-12.47975]\n",
      " [-19.97778]]\n",
      "[[9.84893]]\n",
      "[array([8.90750]), array([0.18106])]\n"
     ]
    }
   ],
   "source": [
    "for i in clf.coefs_:\n",
    "    print (i)\n",
    "print(clf.intercepts_)"
   ]
  },
  {
   "cell_type": "code",
   "execution_count": 8,
   "metadata": {},
   "outputs": [],
   "source": [
    "Z= np.dot(clf.coefs_[0].T, X.T)"
   ]
  },
  {
   "cell_type": "code",
   "execution_count": 9,
   "metadata": {},
   "outputs": [
    {
     "name": "stdout",
     "output_type": "stream",
     "text": [
      "[[0.00000 -19.97778 -12.47975 -32.45753]]\n"
     ]
    }
   ],
   "source": [
    "print(Z)"
   ]
  },
  {
   "cell_type": "code",
   "execution_count": 10,
   "metadata": {},
   "outputs": [
    {
     "data": {
      "text/plain": [
       "<matplotlib.collections.PathCollection at 0x1a1c951400>"
      ]
     },
     "execution_count": 10,
     "metadata": {},
     "output_type": "execute_result"
    },
    {
     "data": {
      "image/png": "[encoded data removed]",
      "text/plain": [
       "<matplotlib.figure.Figure at 0x110806278>"
      ]
     },
     "metadata": {},
     "output_type": "display_data"
    }
   ],
   "source": [
    "ymin, ymax = plt.ylim()\n",
    "w = clf.coefs_[0]\n",
    "a = -w[0] / w[1]\n",
    "xx = np.linspace(ymin, ymax)\n",
    "yy = a * xx - (clf.intercepts_[0]) / w[1]\n",
    "plt.plot(yy,xx, 'k-')\n",
    "plt.scatter(X[0,0],X[0,1])\n",
    "plt.scatter(X[1,0],X[1,1])\n",
    "plt.scatter(X[2,0],X[2,1])\n",
    "plt.scatter(X[3,0],X[3,1])\n"
   ]
  },
  {
   "cell_type": "markdown",
   "metadata": {},
   "source": [
    "# XOR GATE :\n"
   ]
  },
  {
   "cell_type": "code",
   "execution_count": 11,
   "metadata": {
    "collapsed": true
   },
   "outputs": [],
   "source": [
    "X1 = np.asarray([[0,0],[0,1],[1,0],[1,1]])\n",
    "y1 = np.asarray([0,1,1,0])"
   ]
  },
  {
   "cell_type": "code",
   "execution_count": 12,
   "metadata": {
    "collapsed": true
   },
   "outputs": [],
   "source": [
    "clf1 = MLPClassifier(solver=\"lbfgs\", alpha=1e-10, hidden_layer_sizes=(2,), activation = 'tanh', \\\n",
    "                    random_state=5, max_iter=1000000, learning_rate_init = 0.1)\n"
   ]
  },
  {
   "cell_type": "code",
   "execution_count": 13,
   "metadata": {},
   "outputs": [
    {
     "data": {
      "text/plain": [
       "MLPClassifier(activation='tanh', alpha=1e-10, batch_size='auto', beta_1=0.9,\n",
       "       beta_2=0.999, early_stopping=False, epsilon=1e-08,\n",
       "       hidden_layer_sizes=(2,), learning_rate='constant',\n",
       "       learning_rate_init=0.1, max_iter=1000000, momentum=0.9,\n",
       "       nesterovs_momentum=True, power_t=0.5, random_state=5, shuffle=True,\n",
       "       solver='lbfgs', tol=0.0001, validation_fraction=0.1, verbose=False,\n",
       "       warm_start=False)"
      ]
     },
     "execution_count": 13,
     "metadata": {},
     "output_type": "execute_result"
    }
   ],
   "source": [
    "clf1.fit(X1,y1)"
   ]
  },
  {
   "cell_type": "code",
   "execution_count": 14,
   "metadata": {},
   "outputs": [
    {
     "name": "stdout",
     "output_type": "stream",
     "text": [
      "(1000, 1) (1000, 1)\n",
      "(1000, 2)\n",
      "[[0.02320 0.99195]\n",
      " [0.29873 0.21563]\n",
      " [0.09853 0.50751]\n",
      " ..., \n",
      " [0.68605 0.87567]\n",
      " [0.77013 0.97324]\n",
      " [0.94599 0.99053]]\n"
     ]
    }
   ],
   "source": [
    "n = 1000\n",
    "for i in range(n):\n",
    "    MC_x = np.random.rand(n,1)\n",
    "    MC_y = np.random.rand(n,1)\n",
    "print(MC_x.shape, MC_y.shape)\n",
    "MC_test = np.concatenate((MC_x,MC_y), axis =1)\n",
    "print (MC_test.shape)\n",
    "print(MC_test)"
   ]
  },
  {
   "cell_type": "code",
   "execution_count": 15,
   "metadata": {
    "collapsed": true
   },
   "outputs": [],
   "source": [
    "def abline(slope, intercept, xlim =[-1,2], ylim = [-1,2]):\n",
    "    axes = plt.gca()\n",
    "    axes.set_xlim(xlim)\n",
    "    axes.set_ylim(ylim)\n",
    "    x_vals = np.array(axes.get_xlim())\n",
    "    y_vals = intercept + slope*x_vals\n",
    "    plt.plot(x_vals,y_vals, '--')"
   ]
  },
  {
   "cell_type": "code",
   "execution_count": 16,
   "metadata": {},
   "outputs": [
    {
     "data": {
      "image/png": "[encoded data removed]",
      "text/plain": [
       "<matplotlib.figure.Figure at 0x1a1c9a1438>"
      ]
     },
     "metadata": {},
     "output_type": "display_data"
    }
   ],
   "source": [
    "plt.scatter(X1[0,0],X1[0,1], color = 'red')\n",
    "plt.scatter(X1[1,0],X1[1,1], color = 'blue')\n",
    "plt.scatter(X1[2,0],X1[2,1], color = 'blue')\n",
    "plt.scatter(X1[3,0],X1[3,1], color = 'red')\n",
    "for point in MC_test:\n",
    "    if clf1.predict(point.reshape(-1,1).T) == 0:\n",
    "        plt.scatter(point[0],point[1], color = 'red')\n",
    "    if clf1.predict(point.reshape(-1,1).T) == 1:\n",
    "        plt.scatter(point[0],point[1], color = 'blue')\n",
    "        \n",
    "b1 = clf1.intercepts_[0][0]\n",
    "w11 = clf1.coefs_[0][0][0]\n",
    "w21 = clf1.coefs_[0][1][0]\n",
    "slope1 = -(b1/w21)/(b1/w11)\n",
    "intercept1 = -b1/w21\n",
    "\n",
    "\n",
    "b2 = clf1.intercepts_[0][1]\n",
    "w12 = clf1.coefs_[0][0][1]\n",
    "w22 = clf1.coefs_[0][1][1]\n",
    "slope2 = -(b2/w22)/(b2/w12)\n",
    "intercept2 = -b2/w22\n",
    "\n",
    "abline(slope1, intercept1)\n",
    "abline(slope2,intercept2)"
   ]
  },
  {
   "cell_type": "code",
   "execution_count": null,
   "metadata": {
    "collapsed": true
   },
   "outputs": [],
   "source": []
  },
  {
   "cell_type": "markdown",
   "metadata": {},
   "source": [
    "# QUADRATIC FUNC:\n"
   ]
  },
  {
   "cell_type": "code",
   "execution_count": 17,
   "metadata": {},
   "outputs": [
    {
     "name": "stdout",
     "output_type": "stream",
     "text": [
      "(100,)\n"
     ]
    }
   ],
   "source": [
    "x = np.linspace(-10,10,100)\n",
    "print(x.shape)\n",
    "y = x**2"
   ]
  },
  {
   "cell_type": "code",
   "execution_count": 18,
   "metadata": {
    "scrolled": true
   },
   "outputs": [
    {
     "data": {
      "text/plain": [
       "<matplotlib.collections.PathCollection at 0x1a1d339048>"
      ]
     },
     "execution_count": 18,
     "metadata": {},
     "output_type": "execute_result"
    },
    {
     "data": {
      "image/png": "[encoded data removed]",
      "text/plain": [
       "<matplotlib.figure.Figure at 0x1a1c989240>"
      ]
     },
     "metadata": {},
     "output_type": "display_data"
    }
   ],
   "source": [
    "plt.scatter(x,y)"
   ]
  },
  {
   "cell_type": "code",
   "execution_count": 19,
   "metadata": {
    "collapsed": true
   },
   "outputs": [],
   "source": [
    "#add noise\n",
    "noise_y = np.random.normal(0,1,y.shape[0])\n",
    "yn=y+noise_y"
   ]
  },
  {
   "cell_type": "code",
   "execution_count": 20,
   "metadata": {
    "scrolled": true
   },
   "outputs": [
    {
     "data": {
      "text/plain": [
       "<matplotlib.collections.PathCollection at 0x1a1d39e7f0>"
      ]
     },
     "execution_count": 20,
     "metadata": {},
     "output_type": "execute_result"
    },
    {
     "data": {
      "image/png": "[encoded data removed]",
      "text/plain": [
       "<matplotlib.figure.Figure at 0x1a1d3d4d30>"
      ]
     },
     "metadata": {},
     "output_type": "display_data"
    }
   ],
   "source": [
    "plt.scatter(x,yn)"
   ]
  },
  {
   "cell_type": "code",
   "execution_count": 21,
   "metadata": {
    "collapsed": true
   },
   "outputs": [],
   "source": [
    "quad_clf = MLPRegressor(solver=\"lbfgs\", alpha=1e-10, hidden_layer_sizes=(10,2), activation = 'relu', \\\n",
    "                    random_state=5, max_iter=1000000, learning_rate_init = 0.1)\n"
   ]
  },
  {
   "cell_type": "code",
   "execution_count": 22,
   "metadata": {},
   "outputs": [
    {
     "data": {
      "text/plain": [
       "MLPRegressor(activation='relu', alpha=1e-10, batch_size='auto', beta_1=0.9,\n",
       "       beta_2=0.999, early_stopping=False, epsilon=1e-08,\n",
       "       hidden_layer_sizes=(10, 2), learning_rate='constant',\n",
       "       learning_rate_init=0.1, max_iter=1000000, momentum=0.9,\n",
       "       nesterovs_momentum=True, power_t=0.5, random_state=5, shuffle=True,\n",
       "       solver='lbfgs', tol=0.0001, validation_fraction=0.1, verbose=False,\n",
       "       warm_start=False)"
      ]
     },
     "execution_count": 22,
     "metadata": {},
     "output_type": "execute_result"
    }
   ],
   "source": [
    "quad_clf.fit(x.reshape(-1,1), yn.astype('float'))\n"
   ]
  },
  {
   "cell_type": "code",
   "execution_count": 23,
   "metadata": {
    "collapsed": true
   },
   "outputs": [],
   "source": [
    "x1 = np.sort(np.random.randn(10000)*10)"
   ]
  },
  {
   "cell_type": "code",
   "execution_count": 24,
   "metadata": {
    "scrolled": false
   },
   "outputs": [
    {
     "data": {
      "text/plain": [
       "(0, 100)"
      ]
     },
     "execution_count": 24,
     "metadata": {},
     "output_type": "execute_result"
    },
    {
     "data": {
      "image/png": "[encoded data removed]",
      "text/plain": [
       "<matplotlib.figure.Figure at 0x1a1d39ef28>"
      ]
     },
     "metadata": {},
     "output_type": "display_data"
    }
   ],
   "source": [
    "plt.plot(x1,quad_clf.predict(x1.reshape(-1,1)))\n",
    "# plt.scatter(x,y)\n",
    "plt.scatter(x[1::2],yn[1::2], color ='red')\n",
    "plt.xlim([-10,10])\n",
    "plt.ylim([0,100])"
   ]
  },
  {
   "cell_type": "markdown",
   "metadata": {},
   "source": [
    "# Least Squares:\n"
   ]
  },
  {
   "cell_type": "code",
   "execution_count": 48,
   "metadata": {
    "collapsed": true
   },
   "outputs": [],
   "source": [
    "from sklearn.linear_model import LinearRegression"
   ]
  },
  {
   "cell_type": "code",
   "execution_count": 94,
   "metadata": {},
   "outputs": [
    {
     "name": "stdout",
     "output_type": "stream",
     "text": [
      "(100, 1)\n",
      "(100, 1)\n"
     ]
    },
    {
     "data": {
      "text/plain": [
       "[<matplotlib.lines.Line2D at 0x1a1cb49940>]"
      ]
     },
     "execution_count": 94,
     "metadata": {},
     "output_type": "execute_result"
    },
    {
     "data": {
      "image/png": "[encoded data removed]",
      "text/plain": [
       "<matplotlib.figure.Figure at 0x1a1cc2ac88>"
      ]
     },
     "metadata": {},
     "output_type": "display_data"
    }
   ],
   "source": [
    "x = np.linspace(-10,10,100).reshape(-1,1)\n",
    "print(x.shape)\n",
    "y = x**2+2*np.random.normal(100,1)\n",
    "print(y.shape)\n",
    "\n",
    "plt.plot(x,y)\n"
   ]
  },
  {
   "cell_type": "code",
   "execution_count": 82,
   "metadata": {},
   "outputs": [
    {
     "data": {
      "text/plain": [
       "(400,)"
      ]
     },
     "execution_count": 82,
     "metadata": {},
     "output_type": "execute_result"
    }
   ],
   "source": [
    "xnew = np.hstack([x,x**2,x**3,x**4])\n",
    "xnew.shape"
   ]
  },
  {
   "cell_type": "code",
   "execution_count": 62,
   "metadata": {},
   "outputs": [
    {
     "name": "stdout",
     "output_type": "stream",
     "text": [
      "[[0.00000 1.00000 0.00000]\n",
      " [0.00000 1.00000 0.00000]\n",
      " [-0.00000 1.00000 0.00000]\n",
      " [-0.00000 1.00000 0.00000]\n",
      " [-0.00000 1.00000 0.00000]\n",
      " [0.00000 1.00000 0.00000]\n",
      " [0.00000 1.00000 0.00000]\n",
      " [-0.00000 1.00000 0.00000]\n",
      " [-0.00000 1.00000 0.00000]\n",
      " [0.00000 1.00000 0.00000]\n",
      " [-0.00000 1.00000 0.00000]\n",
      " [0.00000 1.00000 0.00000]\n",
      " [0.00000 1.00000 0.00000]\n",
      " [0.00000 1.00000 0.00000]\n",
      " [0.00000 1.00000 0.00000]\n",
      " [0.00000 1.00000 0.00000]\n",
      " [0.00000 1.00000 0.00000]\n",
      " [-0.00000 1.00000 0.00000]\n",
      " [0.00000 1.00000 0.00000]\n",
      " [-0.00000 1.00000 0.00000]\n",
      " [0.00000 1.00000 0.00000]\n",
      " [0.00000 1.00000 0.00000]\n",
      " [0.00000 1.00000 0.00000]\n",
      " [-0.00000 1.00000 0.00000]\n",
      " [0.00000 1.00000 0.00000]\n",
      " [-0.00000 1.00000 0.00000]\n",
      " [-0.00000 1.00000 0.00000]\n",
      " [0.00000 1.00000 0.00000]\n",
      " [0.00000 1.00000 0.00000]\n",
      " [-0.00000 1.00000 0.00000]\n",
      " [-0.00000 1.00000 0.00000]\n",
      " [-0.00000 1.00000 0.00000]\n",
      " [-0.00000 1.00000 0.00000]\n",
      " [0.00000 1.00000 0.00000]\n",
      " [-0.00000 1.00000 0.00000]\n",
      " [0.00000 1.00000 0.00000]\n",
      " [0.00000 1.00000 0.00000]\n",
      " [-0.00000 1.00000 0.00000]\n",
      " [0.00000 1.00000 0.00000]\n",
      " [0.00000 1.00000 0.00000]\n",
      " [0.00000 1.00000 0.00000]\n",
      " [0.00000 1.00000 0.00000]\n",
      " [0.00000 1.00000 0.00000]\n",
      " [-0.00000 1.00000 0.00000]\n",
      " [-0.00000 1.00000 0.00000]\n",
      " [-0.00000 1.00000 0.00000]\n",
      " [-0.00000 1.00000 0.00000]\n",
      " [-0.00000 1.00000 0.00000]\n",
      " [-0.00000 1.00000 0.00000]\n",
      " [0.00000 1.00000 0.00000]\n",
      " [0.00000 1.00000 0.00000]\n",
      " [-0.00000 1.00000 0.00000]\n",
      " [-0.00000 1.00000 0.00000]\n",
      " [-0.00000 1.00000 0.00000]\n",
      " [-0.00000 1.00000 0.00000]\n",
      " [0.00000 1.00000 0.00000]\n",
      " [-0.00000 1.00000 0.00000]\n",
      " [0.00000 1.00000 0.00000]\n",
      " [-0.00000 1.00000 0.00000]\n",
      " [0.00000 1.00000 0.00000]\n",
      " [0.00000 1.00000 0.00000]\n",
      " [-0.00000 1.00000 0.00000]\n",
      " [-0.00000 1.00000 0.00000]\n",
      " [-0.00000 1.00000 0.00000]\n",
      " [-0.00000 1.00000 0.00000]\n",
      " [0.00000 1.00000 0.00000]\n",
      " [-0.00000 1.00000 0.00000]\n",
      " [-0.00000 1.00000 0.00000]\n",
      " [-0.00000 1.00000 0.00000]\n",
      " [0.00000 1.00000 0.00000]\n",
      " [-0.00000 1.00000 0.00000]\n",
      " [-0.00000 1.00000 0.00000]\n",
      " [0.00000 1.00000 0.00000]\n",
      " [-0.00000 1.00000 0.00000]\n",
      " [-0.00000 1.00000 0.00000]\n",
      " [0.00000 1.00000 0.00000]\n",
      " [-0.00000 1.00000 0.00000]\n",
      " [-0.00000 1.00000 0.00000]\n",
      " [-0.00000 1.00000 0.00000]\n",
      " [0.00000 1.00000 0.00000]\n",
      " [-0.00000 1.00000 0.00000]\n",
      " [-0.00000 1.00000 0.00000]\n",
      " [0.00000 1.00000 0.00000]\n",
      " [0.00000 1.00000 0.00000]\n",
      " [0.00000 1.00000 0.00000]\n",
      " [0.00000 1.00000 0.00000]\n",
      " [-0.00000 1.00000 0.00000]\n",
      " [0.00000 1.00000 0.00000]\n",
      " [-0.00000 1.00000 0.00000]\n",
      " [0.00000 1.00000 0.00000]\n",
      " [-0.00000 1.00000 0.00000]\n",
      " [0.00000 1.00000 0.00000]\n",
      " [0.00000 1.00000 0.00000]\n",
      " [0.00000 1.00000 0.00000]\n",
      " [0.00000 1.00000 0.00000]\n",
      " [0.00000 1.00000 0.00000]\n",
      " [0.00000 1.00000 0.00000]\n",
      " [-0.00000 1.00000 0.00000]\n",
      " [0.00000 1.00000 0.00000]\n",
      " [-0.00000 1.00000 0.00000]]\n",
      "[0.57539 6.73693 1.62857 -6.50186 -2.61816 -9.49313 16.06234 -16.47240\n",
      " -17.13184 3.57567 12.97988 -1.80825 -6.70167 0.42583 -17.40202 -6.16584\n",
      " -5.07080 -6.73665 11.90100 -4.55017 15.45029 -5.55086 -19.25854 -6.01671\n",
      " 19.86981 -6.32306 -9.20049 15.75846 -2.36460 14.03699 -0.39850 0.69794\n",
      " -1.71098 -11.37916 14.82431 20.82278 -5.89714 -1.22754 -8.23035 -1.54141\n",
      " 5.78590 -0.70988 4.73893 -8.17204 6.99882 -10.79437 -1.67166 -2.95859\n",
      " -3.02435 -6.01685 20.47880 1.76728 -0.33232 -2.20780 8.81908 -10.98649\n",
      " -18.57466 2.45868 -8.98996 5.08633 1.38029 -9.79691 -6.22363 -9.82728\n",
      " 5.78956 -4.82749 15.81927 -16.90153 1.32068 2.24754 13.16427 8.31220\n",
      " 2.93370 -15.12496 13.74844 1.99927 -13.10482 2.51705 -5.42286 2.83656\n",
      " -3.76737 -17.94264 -17.44577 -0.61058 -1.58020 -2.30716 -7.03698 -4.04751\n",
      " 8.04223 -2.66665 9.45109 -0.88413 -1.76445 -5.80709 0.33914 10.03175\n",
      " 14.50135 -25.33298 -4.99153 -18.33766]\n"
     ]
    }
   ],
   "source": [
    "model = LinearRegression()\n",
    "model.fit(xnew, yn)\n",
    "print(model.coef_)\n",
    "print(model.intercept_)"
   ]
  },
  {
   "cell_type": "code",
   "execution_count": 65,
   "metadata": {},
   "outputs": [
    {
     "data": {
      "text/plain": [
       "(100, 100)"
      ]
     },
     "execution_count": 65,
     "metadata": {},
     "output_type": "execute_result"
    }
   ],
   "source": [
    "ypred = model.predict(xnew)\n",
    "ypred.shape\n"
   ]
  },
  {
   "cell_type": "code",
   "execution_count": 64,
   "metadata": {},
   "outputs": [
    {
     "ename": "ValueError",
     "evalue": "x and y must be the same size",
     "output_type": "error",
     "traceback": [
      "\u001b[0;31m---------------------------------------------------------------------------\u001b[0m",
      "\u001b[0;31mValueError\u001b[0m                                Traceback (most recent call last)",
      "\u001b[0;32m<ipython-input-64-76a142294642>\u001b[0m in \u001b[0;36m<module>\u001b[0;34m()\u001b[0m\n\u001b[0;32m----> 1\u001b[0;31m \u001b[0mplt\u001b[0m\u001b[0;34m.\u001b[0m\u001b[0mscatter\u001b[0m\u001b[0;34m(\u001b[0m\u001b[0mx\u001b[0m\u001b[0;34m,\u001b[0m\u001b[0myn\u001b[0m\u001b[0;34m)\u001b[0m\u001b[0;34m\u001b[0m\u001b[0m\n\u001b[0m\u001b[1;32m      2\u001b[0m \u001b[0mxnew\u001b[0m\u001b[0;34m.\u001b[0m\u001b[0mshape\u001b[0m\u001b[0;34m\u001b[0m\u001b[0m\n\u001b[1;32m      3\u001b[0m \u001b[0mplt\u001b[0m\u001b[0;34m.\u001b[0m\u001b[0mplot\u001b[0m\u001b[0;34m[\u001b[0m\u001b[0mxnew\u001b[0m\u001b[0;34m[\u001b[0m\u001b[0;34m:\u001b[0m\u001b[0;34m,\u001b[0m\u001b[0;36m0\u001b[0m\u001b[0;34m]\u001b[0m\u001b[0;34m,\u001b[0m\u001b[0mypred\u001b[0m\u001b[0;34m]\u001b[0m\u001b[0;34m\u001b[0m\u001b[0m\n",
      "\u001b[0;32m/anaconda3/lib/python3.6/site-packages/matplotlib/pyplot.py\u001b[0m in \u001b[0;36mscatter\u001b[0;34m(x, y, s, c, marker, cmap, norm, vmin, vmax, alpha, linewidths, verts, edgecolors, hold, data, **kwargs)\u001b[0m\n\u001b[1;32m   3355\u001b[0m                          \u001b[0mvmin\u001b[0m\u001b[0;34m=\u001b[0m\u001b[0mvmin\u001b[0m\u001b[0;34m,\u001b[0m \u001b[0mvmax\u001b[0m\u001b[0;34m=\u001b[0m\u001b[0mvmax\u001b[0m\u001b[0;34m,\u001b[0m \u001b[0malpha\u001b[0m\u001b[0;34m=\u001b[0m\u001b[0malpha\u001b[0m\u001b[0;34m,\u001b[0m\u001b[0;34m\u001b[0m\u001b[0m\n\u001b[1;32m   3356\u001b[0m                          \u001b[0mlinewidths\u001b[0m\u001b[0;34m=\u001b[0m\u001b[0mlinewidths\u001b[0m\u001b[0;34m,\u001b[0m \u001b[0mverts\u001b[0m\u001b[0;34m=\u001b[0m\u001b[0mverts\u001b[0m\u001b[0;34m,\u001b[0m\u001b[0;34m\u001b[0m\u001b[0m\n\u001b[0;32m-> 3357\u001b[0;31m                          edgecolors=edgecolors, data=data, **kwargs)\n\u001b[0m\u001b[1;32m   3358\u001b[0m     \u001b[0;32mfinally\u001b[0m\u001b[0;34m:\u001b[0m\u001b[0;34m\u001b[0m\u001b[0m\n\u001b[1;32m   3359\u001b[0m         \u001b[0max\u001b[0m\u001b[0;34m.\u001b[0m\u001b[0m_hold\u001b[0m \u001b[0;34m=\u001b[0m \u001b[0mwashold\u001b[0m\u001b[0;34m\u001b[0m\u001b[0m\n",
      "\u001b[0;32m/anaconda3/lib/python3.6/site-packages/matplotlib/__init__.py\u001b[0m in \u001b[0;36minner\u001b[0;34m(ax, *args, **kwargs)\u001b[0m\n\u001b[1;32m   1708\u001b[0m                     warnings.warn(msg % (label_namer, func.__name__),\n\u001b[1;32m   1709\u001b[0m                                   RuntimeWarning, stacklevel=2)\n\u001b[0;32m-> 1710\u001b[0;31m             \u001b[0;32mreturn\u001b[0m \u001b[0mfunc\u001b[0m\u001b[0;34m(\u001b[0m\u001b[0max\u001b[0m\u001b[0;34m,\u001b[0m \u001b[0;34m*\u001b[0m\u001b[0margs\u001b[0m\u001b[0;34m,\u001b[0m \u001b[0;34m**\u001b[0m\u001b[0mkwargs\u001b[0m\u001b[0;34m)\u001b[0m\u001b[0;34m\u001b[0m\u001b[0m\n\u001b[0m\u001b[1;32m   1711\u001b[0m         \u001b[0mpre_doc\u001b[0m \u001b[0;34m=\u001b[0m \u001b[0minner\u001b[0m\u001b[0;34m.\u001b[0m\u001b[0m__doc__\u001b[0m\u001b[0;34m\u001b[0m\u001b[0m\n\u001b[1;32m   1712\u001b[0m         \u001b[0;32mif\u001b[0m \u001b[0mpre_doc\u001b[0m \u001b[0;32mis\u001b[0m \u001b[0;32mNone\u001b[0m\u001b[0;34m:\u001b[0m\u001b[0;34m\u001b[0m\u001b[0m\n",
      "\u001b[0;32m/anaconda3/lib/python3.6/site-packages/matplotlib/axes/_axes.py\u001b[0m in \u001b[0;36mscatter\u001b[0;34m(self, x, y, s, c, marker, cmap, norm, vmin, vmax, alpha, linewidths, verts, edgecolors, **kwargs)\u001b[0m\n\u001b[1;32m   4017\u001b[0m         \u001b[0my\u001b[0m \u001b[0;34m=\u001b[0m \u001b[0mnp\u001b[0m\u001b[0;34m.\u001b[0m\u001b[0mma\u001b[0m\u001b[0;34m.\u001b[0m\u001b[0mravel\u001b[0m\u001b[0;34m(\u001b[0m\u001b[0my\u001b[0m\u001b[0;34m)\u001b[0m\u001b[0;34m\u001b[0m\u001b[0m\n\u001b[1;32m   4018\u001b[0m         \u001b[0;32mif\u001b[0m \u001b[0mx\u001b[0m\u001b[0;34m.\u001b[0m\u001b[0msize\u001b[0m \u001b[0;34m!=\u001b[0m \u001b[0my\u001b[0m\u001b[0;34m.\u001b[0m\u001b[0msize\u001b[0m\u001b[0;34m:\u001b[0m\u001b[0;34m\u001b[0m\u001b[0m\n\u001b[0;32m-> 4019\u001b[0;31m             \u001b[0;32mraise\u001b[0m \u001b[0mValueError\u001b[0m\u001b[0;34m(\u001b[0m\u001b[0;34m\"x and y must be the same size\"\u001b[0m\u001b[0;34m)\u001b[0m\u001b[0;34m\u001b[0m\u001b[0m\n\u001b[0m\u001b[1;32m   4020\u001b[0m \u001b[0;34m\u001b[0m\u001b[0m\n\u001b[1;32m   4021\u001b[0m         \u001b[0;32mif\u001b[0m \u001b[0ms\u001b[0m \u001b[0;32mis\u001b[0m \u001b[0;32mNone\u001b[0m\u001b[0;34m:\u001b[0m\u001b[0;34m\u001b[0m\u001b[0m\n",
      "\u001b[0;31mValueError\u001b[0m: x and y must be the same size"
     ]
    },
    {
     "data": {
      "image/png": "[encoded data removed]",
      "text/plain": [
       "<matplotlib.figure.Figure at 0x1a1cbca860>"
      ]
     },
     "metadata": {},
     "output_type": "display_data"
    }
   ],
   "source": [
    "plt.scatter(x,yn)\n",
    "xnew.shape\n",
    "plt.plot[xnew[:,0],ypred]"
   ]
  },
  {
   "cell_type": "code",
   "execution_count": null,
   "metadata": {
    "collapsed": true
   },
   "outputs": [],
   "source": []
  },
  {
   "cell_type": "code",
   "execution_count": null,
   "metadata": {
    "collapsed": true
   },
   "outputs": [],
   "source": []
  },
  {
   "cell_type": "code",
   "execution_count": 1061,
   "metadata": {},
   "outputs": [
    {
     "name": "stdout",
     "output_type": "stream",
     "text": [
      "(100,)\n"
     ]
    }
   ],
   "source": []
  },
  {
   "cell_type": "code",
   "execution_count": 1062,
   "metadata": {
    "collapsed": true
   },
   "outputs": [],
   "source": [
    "z = np.polyfit(x, yn.astype('float'),3)"
   ]
  },
  {
   "cell_type": "code",
   "execution_count": null,
   "metadata": {
    "collapsed": true
   },
   "outputs": [],
   "source": []
  },
  {
   "cell_type": "code",
   "execution_count": null,
   "metadata": {
    "collapsed": true
   },
   "outputs": [],
   "source": []
  },
  {
   "cell_type": "code",
   "execution_count": null,
   "metadata": {
    "collapsed": true
   },
   "outputs": [],
   "source": []
  },
  {
   "cell_type": "markdown",
   "metadata": {},
   "source": [
    "# QUADRATIC FUNC NOISE++:\n"
   ]
  },
  {
   "cell_type": "code",
   "execution_count": 1033,
   "metadata": {},
   "outputs": [
    {
     "name": "stdout",
     "output_type": "stream",
     "text": [
      "(100,)\n"
     ]
    }
   ],
   "source": [
    "x = np.linspace(-10,10,100)\n",
    "print(x.shape)\n",
    "y = x**2"
   ]
  },
  {
   "cell_type": "code",
   "execution_count": 1034,
   "metadata": {
    "scrolled": true
   },
   "outputs": [
    {
     "data": {
      "text/plain": [
       "<matplotlib.collections.PathCollection at 0x1a29276550>"
      ]
     },
     "execution_count": 1034,
     "metadata": {},
     "output_type": "execute_result"
    },
    {
     "data": {
      "image/png": "[encoded data removed]",
      "text/plain": [
       "<matplotlib.figure.Figure at 0x1a27b4ec88>"
      ]
     },
     "metadata": {},
     "output_type": "display_data"
    }
   ],
   "source": [
    "plt.scatter(x,y)"
   ]
  },
  {
   "cell_type": "code",
   "execution_count": 1035,
   "metadata": {
    "collapsed": true
   },
   "outputs": [],
   "source": [
    "#add noise\n",
    "noise_y = np.random.normal(0,5,y.shape[0])\n",
    "yn=y+noise_y"
   ]
  },
  {
   "cell_type": "code",
   "execution_count": 1036,
   "metadata": {
    "scrolled": true
   },
   "outputs": [
    {
     "data": {
      "text/plain": [
       "<matplotlib.collections.PathCollection at 0x1a29349d68>"
      ]
     },
     "execution_count": 1036,
     "metadata": {},
     "output_type": "execute_result"
    },
    {
     "data": {
      "image/png": "[encoded data removed]",
      "text/plain": [
       "<matplotlib.figure.Figure at 0x1a29290ba8>"
      ]
     },
     "metadata": {},
     "output_type": "display_data"
    }
   ],
   "source": [
    "plt.scatter(x,yn)"
   ]
  },
  {
   "cell_type": "code",
   "execution_count": 1045,
   "metadata": {
    "collapsed": true
   },
   "outputs": [],
   "source": [
    "quad_clf = MLPRegressor(solver=\"lbfgs\", alpha=1e-10, hidden_layer_sizes=(1000), activation = 'relu', \\\n",
    "                    random_state=5, max_iter=1000000, learning_rate_init = 0.1)\n"
   ]
  },
  {
   "cell_type": "code",
   "execution_count": 1046,
   "metadata": {},
   "outputs": [
    {
     "data": {
      "text/plain": [
       "MLPRegressor(activation='relu', alpha=1e-10, batch_size='auto', beta_1=0.9,\n",
       "       beta_2=0.999, early_stopping=False, epsilon=1e-08,\n",
       "       hidden_layer_sizes=1000, learning_rate='constant',\n",
       "       learning_rate_init=0.1, max_iter=1000000, momentum=0.9,\n",
       "       nesterovs_momentum=True, power_t=0.5, random_state=5, shuffle=True,\n",
       "       solver='lbfgs', tol=0.0001, validation_fraction=0.1, verbose=False,\n",
       "       warm_start=False)"
      ]
     },
     "execution_count": 1046,
     "metadata": {},
     "output_type": "execute_result"
    }
   ],
   "source": [
    "quad_clf.fit(x.reshape(-1,1), yn.astype('float'))\n"
   ]
  },
  {
   "cell_type": "code",
   "execution_count": 1047,
   "metadata": {
    "collapsed": true
   },
   "outputs": [],
   "source": [
    "x1 = np.sort(np.random.randn(10000)*10)"
   ]
  },
  {
   "cell_type": "code",
   "execution_count": 1048,
   "metadata": {
    "scrolled": false
   },
   "outputs": [
    {
     "data": {
      "text/plain": [
       "(0, 100)"
      ]
     },
     "execution_count": 1048,
     "metadata": {},
     "output_type": "execute_result"
    },
    {
     "data": {
      "image/png": "[encoded data removed]",
      "text/plain": [
       "<matplotlib.figure.Figure at 0x1a2a074518>"
      ]
     },
     "metadata": {},
     "output_type": "display_data"
    }
   ],
   "source": [
    "plt.plot(x1,quad_clf.predict(x1.reshape(-1,1)))\n",
    "# plt.scatter(x,y)\n",
    "plt.scatter(x[1::2],yn[1::2], color ='red')\n",
    "plt.xlim([-10,10])\n",
    "plt.ylim([0,100])"
   ]
  }
 ],
 "metadata": {
  "kernelspec": {
   "display_name": "Python 3",
   "language": "python",
   "name": "python3"
  },
  "language_info": {
   "codemirror_mode": {
    "name": "ipython",
    "version": 3
   },
   "file_extension": ".py",
   "mimetype": "text/x-python",
   "name": "python",
   "nbconvert_exporter": "python",
   "pygments_lexer": "ipython3",
   "version": "3.6.3"
  }
 },
 "nbformat": 4,
 "nbformat_minor": 2
}
